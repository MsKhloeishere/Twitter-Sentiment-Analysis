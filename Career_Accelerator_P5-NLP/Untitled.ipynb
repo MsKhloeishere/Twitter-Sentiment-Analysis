{
 "cells": [
  {
   "cell_type": "code",
   "execution_count": 2,
   "id": "ad4a323a",
   "metadata": {},
   "outputs": [],
   "source": [
    "import streamlit as st\n",
    "import pandas as pd\n",
    "import numpy as np\n"
   ]
  },
  {
   "cell_type": "code",
   "execution_count": 3,
   "id": "29a29214",
   "metadata": {},
   "outputs": [
    {
     "ename": "NameError",
     "evalue": "name 'streamlit_app' is not defined",
     "output_type": "error",
     "traceback": [
      "\u001b[1;31m---------------------------------------------------------------------------\u001b[0m",
      "\u001b[1;31mNameError\u001b[0m                                 Traceback (most recent call last)",
      "Cell \u001b[1;32mIn[3], line 1\u001b[0m\n\u001b[1;32m----> 1\u001b[0m \u001b[43mstreamlit_app\u001b[49m\u001b[38;5;241m.\u001b[39mpy\n",
      "\u001b[1;31mNameError\u001b[0m: name 'streamlit_app' is not defined"
     ]
    }
   ],
   "source": [
    "streamlit_app.py"
   ]
  },
  {
   "cell_type": "code",
   "execution_count": null,
   "id": "2c622bad",
   "metadata": {},
   "outputs": [],
   "source": [
    "dt_model = "
   ]
  },
  {
   "cell_type": "code",
   "execution_count": null,
   "id": "84fa58ec",
   "metadata": {},
   "outputs": [],
   "source": [
    "st.title(\"COVID VACINE Twitter Sentiment Analysis\")"
   ]
  },
  {
   "cell_type": "code",
   "execution_count": null,
   "id": "6542079e",
   "metadata": {},
   "outputs": [],
   "source": [
    "def load_data (nrows):\n",
    "    data=\n",
    "    lowercase = lambda x: str(x).lower()\n",
    "    "
   ]
  },
  {
   "cell_type": "code",
   "execution_count": null,
   "id": "2c2dd7bc",
   "metadata": {},
   "outputs": [],
   "source": [
    "st.subheader(\"Type your Tweet Here\")"
   ]
  },
  {
   "cell_type": "code",
   "execution_count": null,
   "id": "70c657ba",
   "metadata": {},
   "outputs": [],
   "source": [
    "if st.button(\"Predict\", key = \"Sentiment\", help= \"Click to see your sentiment\")\n",
    "    input_df = pd.dataframe([input_data])"
   ]
  },
  {
   "cell_type": "code",
   "execution_count": null,
   "id": "d040758e",
   "metadata": {},
   "outputs": [],
   "source": []
  }
 ],
 "metadata": {
  "kernelspec": {
   "display_name": "Python 3 (ipykernel)",
   "language": "python",
   "name": "python3"
  },
  "language_info": {
   "codemirror_mode": {
    "name": "ipython",
    "version": 3
   },
   "file_extension": ".py",
   "mimetype": "text/x-python",
   "name": "python",
   "nbconvert_exporter": "python",
   "pygments_lexer": "ipython3",
   "version": "3.9.13"
  }
 },
 "nbformat": 4,
 "nbformat_minor": 5
}
